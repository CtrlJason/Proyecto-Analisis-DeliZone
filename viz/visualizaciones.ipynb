{
 "cells": [
  {
   "cell_type": "code",
   "execution_count": 45,
   "metadata": {},
   "outputs": [],
   "source": [
    "import matplotlib.pyplot as plt\n",
    "import pandas as pd"
   ]
  },
  {
   "cell_type": "code",
   "execution_count": 46,
   "metadata": {},
   "outputs": [
    {
     "name": "stdout",
     "output_type": "stream",
     "text": [
      "Iniciando proceso ETL de las publicaciones...\n"
     ]
    }
   ],
   "source": [
    "print(\"Iniciando proceso ETL de las publicaciones...\")\n",
    "data = pd.read_csv('../data/datos_trabajados/publicaciones.csv')"
   ]
  },
  {
   "cell_type": "markdown",
   "metadata": {},
   "source": [
    "## Alcance por Tipo de Publicación\n",
    "Este gráfico de barras muestra el promedio de alcance para cada tipo de publicación (por ejemplo, imágenes, secuencias, etc.). Nos ayuda a identificar qué formato funciona mejor en términos de alcance.\n",
    "\n",
    "Datos:\n",
    "- Tipo de publicación\n",
    "- Alcance"
   ]
  },
  {
   "cell_type": "code",
   "execution_count": 47,
   "metadata": {},
   "outputs": [],
   "source": [
    "tipo_publicacion_alcance = data.groupby(\"Tipo de publicación\")[\"Alcance\"].mean()"
   ]
  },
  {
   "cell_type": "code",
   "execution_count": 48,
   "metadata": {},
   "outputs": [],
   "source": [
    "plt.figure(figsize=(8, 5))\n",
    "tipo_publicacion_alcance.sort_values().plot(kind='bar', color='skyblue', edgecolor='black')\n",
    "plt.title(\"Promedio de Alcance por Tipo de Publicación\")\n",
    "plt.xlabel(\"Tipo de Publicación\")\n",
    "plt.ylabel(\"Promedio de Alcance\")\n",
    "plt.xticks(rotation=45)\n",
    "plt.tight_layout()\n",
    "# plt.show()\n",
    "\n",
    "# Guardamos la grafica en una imagen\n",
    "plt.savefig(\"../graficos/promedio_alcance_tipo_publicacion.png\")\n",
    "plt.close()"
   ]
  },
  {
   "cell_type": "markdown",
   "metadata": {},
   "source": [
    "## Relación entre Impresiones y Me gusta\n",
    "Este gráfico muestra cómo se relacionan las impresiones con los \"me gusta\". Ayuda a identificar si más impresiones resultan en más \"me gusta\".\n",
    "Datos utilizados:\n",
    "- Impresiones\n",
    "- Me gusta"
   ]
  },
  {
   "cell_type": "code",
   "execution_count": 49,
   "metadata": {},
   "outputs": [],
   "source": [
    "# Crear el gráfico de dispersión\n",
    "plt.figure(figsize=(8, 5))\n",
    "plt.scatter(data[\"Impresiones\"], data[\"Me gusta\"], color='orange', alpha=0.7)\n",
    "plt.title(\"Relación entre Impresiones y Me gusta\")\n",
    "plt.xlabel(\"Impresiones\")\n",
    "plt.ylabel(\"Me gusta\")\n",
    "plt.grid(alpha=0.3)\n",
    "plt.tight_layout()\n",
    "# plt.show()\n",
    "\n",
    "# Guardamos la grafica en una imagen\n",
    "plt.savefig(\"../graficos/relacion_impresiones_megusta.png\")\n",
    "plt.close()"
   ]
  },
  {
   "cell_type": "markdown",
   "metadata": {},
   "source": [
    "## Total de interacciones de las publicaciones\n",
    "Este gráfico muestra las interacciones de todas las publicaciones, incluyendo \"me gusta\", \"guardado\" y \"compartido\". Muestra una visión general de las métricas mas importantes de interacción.\n",
    "Datos:\n",
    "- Me gusta\n",
    "- Veces que se guardó\n",
    "- Veces que se compartió"
   ]
  },
  {
   "cell_type": "code",
   "execution_count": 50,
   "metadata": {},
   "outputs": [],
   "source": [
    "interacciones = data[[\"Me gusta\", \"Veces que se guardó\", \"Veces que se compartió\"]].sum()\n",
    "\n",
    "# Crearmos el grafico\n",
    "plt.figure(figsize=(10, 6))\n",
    "interacciones.plot(kind=\"bar\", color=[\"#6A5ACD\", \"#6495ED\", \"#FFA07A\"], edgecolor=\"black\")\n",
    "plt.title(\"Interacciones Totales\")\n",
    "plt.ylabel(\"Cantidad Total\")\n",
    "plt.xticks(rotation=0)\n",
    "plt.tight_layout()\n",
    "# plt.show()\n",
    "\n",
    "# Guardamos la grafica en una imagen\n",
    "plt.savefig(\"../graficos/interacciones_totales.png\")\n",
    "plt.close()"
   ]
  }
 ],
 "metadata": {
  "kernelspec": {
   "display_name": ".venv",
   "language": "python",
   "name": "python3"
  },
  "language_info": {
   "codemirror_mode": {
    "name": "ipython",
    "version": 3
   },
   "file_extension": ".py",
   "mimetype": "text/x-python",
   "name": "python",
   "nbconvert_exporter": "python",
   "pygments_lexer": "ipython3",
   "version": "3.12.7"
  }
 },
 "nbformat": 4,
 "nbformat_minor": 2
}
